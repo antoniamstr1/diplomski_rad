{
 "cells": [
  {
   "cell_type": "code",
   "execution_count": 1,
   "id": "ec1c38e8",
   "metadata": {},
   "outputs": [],
   "source": [
    "import numpy as np\n",
    "import matplotlib.pyplot as plt\n",
    "from skimage import io\n",
    "\n",
    "import matplotlib.colors as mcolors\n",
    "\n",
    "import warnings\n",
    "warnings.filterwarnings(\"ignore\")"
   ]
  },
  {
   "cell_type": "code",
   "execution_count": 10,
   "id": "867402a3",
   "metadata": {},
   "outputs": [],
   "source": [
    "\n",
    "class SpectralClusteringKVV:\n",
    "    def __init__(self, sigma_I, sigma_X, r, lanczos_k, l, cheeger_conduntance = None, max_clusters = None):\n",
    "        self.sigma_I = sigma_I #intsnsitiy scale\n",
    "        self.sigma_X = sigma_X #spatial sclae\n",
    "        self.r = r # spatial cutoff\n",
    "        self.lanczos_k = lanczos_k\n",
    "        self.l = l\n",
    "        self.cheeger_conduntance = cheeger_conduntance  # threshold za splitting\n",
    "        self.current_cluster_id = 0\n",
    "        self.max_clusters = max_clusters\n",
    "\n",
    "    #-----------------------učitavanje slike-----------------------------\n",
    "    def load_image(self, image_path):\n",
    "        self.img = io.imread(image_path, as_gray=True).astype(np.float64)\n",
    "        # skaliranje brigthnessa na 0-255\n",
    "        self.img *= 255  \n",
    "        self.img = np.clip(self.img, 0, 255)\n",
    "        self.rows, self.cols = self.img.shape\n",
    "        #------------------pretvaranje pixela u čvorove------------------\n",
    "        self.X = np.array([(i, j) for i in range(self.rows) for j in range(self.cols)])\n",
    "        self.intensities = self.img.flatten()\n",
    "        self.n = self.X.shape[0]\n",
    "        self.clusters = np.zeros(self.n, dtype=int) # ???\n",
    "        return self\n",
    "    \n",
    "    \"\"\" 1.KORAK \"\"\"\n",
    "    #---------------------- iz rada SM formula za simm.----------------------\n",
    "    def compute_similarity_matrix(self):\n",
    "        W = np.zeros((self.n, self.n))  # simmilarity matrix prema brightness\n",
    "        r_sq = self.r ** 2\n",
    "        for i in range(self.n):\n",
    "                for j in range(i + 1, self.n):\n",
    "                    spatial_dist_sq = np.linalg.norm(self.X[i] - self.X[j])\n",
    "                    if spatial_dist_sq < r_sq:\n",
    "                        intensity_diff_sq = np.linalg.norm(self.intensities[i] - self.intensities[j]) ** 2\n",
    "                        w_ij = np.exp(-intensity_diff_sq / (self.sigma_I ** 2)) * \\\n",
    "                            np.exp(-spatial_dist_sq**2 / (self.sigma_X ** 2))\n",
    "                        W[i, j] = w_ij\n",
    "                        W[j, i] = w_ij\n",
    "\n",
    "            \n",
    "        self.W = W\n",
    "        return self\n",
    "\n",
    "    \"\"\" 2.KORAK \"\"\"\n",
    "    #---------------------- eigenvrijednosti - eigenvektori ----------------\n",
    "    def compute_laplacian(self, W=None):\n",
    "        #L = D - W -> nenormalizirana matrica\n",
    "        if W is None:\n",
    "            W = self.W\n",
    "        D = np.diag(np.sum(W, axis=1))\n",
    "        # PROBLEM: nekad naiđe na dijeljenje s 0\n",
    "        # \n",
    "        D_inv_sqrt = np.diag([1.0 / np.sqrt(d) if d != 0 else 0 for d in np.diag(D)]) # D^1/2\n",
    "        return D_inv_sqrt @ (D - W) @ D_inv_sqrt\n",
    "\n",
    "    \n",
    "\n",
    "    def compute_fiedler_vector(self, L):\n",
    "        #b = np.random.rand(self.n)\n",
    "        b = np.ones(L.shape[0]) # da maknemo randomness\n",
    "        eigvals, eigvecs = np.linalg.eigh(L)\n",
    "        fiedler = L @ eigvecs[:, 1]\n",
    "        fiedler = np.sign(fiedler[np.argmax(np.abs(fiedler))]) * fiedler # consistent sign ??\n",
    "        return fiedler\n",
    "\n",
    "    \"\"\" 3.KORAK \"\"\"\n",
    "    #----------------------------- N-cut ----------------------------------\n",
    "    # \"Currently, the search is done by checking l evenly spaced possible \n",
    "    # splitting points, and computing the best Ncut among them.\"\"\n",
    "    #clusters = np.where(fiedler_vector >= 0, 1, 0)  # separacija prema predznaku\n",
    "    def compute_cheeger_conduntance(self, W, D, C, CC):\n",
    "        degrees = np.sum(W, axis=1)\n",
    "        cut = np.sum(W[np.ix_(C, CC)])\n",
    "        vol_C = np.sum(degrees[C])\n",
    "        vol_not_C = np.sum(degrees[CC])\n",
    "        return cut / min(vol_C, vol_not_C)\n",
    "\n",
    "    \n",
    "    \n",
    "    def recursive_two_way(self, indices, parent_cluster_id=0):\n",
    "        # logika da se i prati max broj grupa: or self.current_cluster_id >= self.max_clusters - 1\n",
    "        if len(indices) < self.l :\n",
    "            self.clusters[indices] = parent_cluster_id\n",
    "            return\n",
    "\n",
    "        # podgrafovi za trenutni cluser\n",
    "        # ne računam ponovno nego uzimam manje iz originalnog\n",
    "        W_sub = self.W[indices][:, indices]\n",
    "        # kvv-sum\n",
    "        \"\"\"  row_sums = np.sum(W_sub, axis=1, keepdims=True)\n",
    "        W_sub = W_sub / row_sums \"\"\"\n",
    "        # kvv-add\n",
    "        row_sums = np.sum(W_sub, axis=1)\n",
    "        for i in range(len(W_sub)):\n",
    "            diff = 1.0 - row_sums[i]\n",
    "            if diff > 0:\n",
    "                W_sub[i, i] += diff\n",
    "        L_sub = self.compute_laplacian(W_sub)\n",
    "        \n",
    "        fiedler = self.compute_fiedler_vector(L_sub)\n",
    "        \n",
    "        #------------------------ Find optimal split ----------------------------\n",
    "        sorted_idx = np.argsort(fiedler)\n",
    "        min_cheeger_values = np.inf\n",
    "        best_split = self.l\n",
    "        for i in range(self.l, len(fiedler) - self.l, self.l):\n",
    "            C = sorted_idx[:i]\n",
    "            CC = sorted_idx[i:]\n",
    "            current_cheeger = self.compute_cheeger_conduntance(W_sub, np.diag(np.sum(W_sub, axis=1)), C, CC)\n",
    "            if current_cheeger < min_cheeger_values:\n",
    "                min_cheeger_values = current_cheeger\n",
    "                best_split = i\n",
    "        \"4. KORAK \"\n",
    "        #----------------------------- cut - stability ----------------------------\n",
    "        # kako odrediti max cut:\n",
    "            # empririjski [0.1,0.5] ->provjeriti\n",
    "            # malo iznad prosjeka\n",
    "        #self.max_ncut = np.mean(ncut_values) # previše grupa\n",
    "        \n",
    "        # dijeliti ili ne\n",
    "        # logika da se prati  i broj grupa: \"\"\" and self.current_cluster_id < self.max_clusters - 1 \"\"\"\n",
    "        \"\"\"if  min_cheeger_values < self.cheeger_conduntance:   \"\"\"\n",
    "        if self.current_cluster_id < self.max_clusters - 1:\n",
    "            left = indices[sorted_idx[:best_split]]\n",
    "            right = indices[sorted_idx[best_split:]]\n",
    "            \n",
    "            \"5. KORAK\"\n",
    "            #----------------------------- two-way recursion ----------------------------\n",
    "            self.current_cluster_id += 1\n",
    "            new_cluster_id = self.current_cluster_id\n",
    "            \n",
    "            self.clusters[right] = new_cluster_id\n",
    "            self.recursive_two_way(left, parent_cluster_id)\n",
    "            self.recursive_two_way(right, new_cluster_id)\n",
    "        else:\n",
    "            self.clusters[indices] = parent_cluster_id\n",
    "            \n",
    "       \n",
    "\n",
    "    # pipline koji poziva sve bitne funkcije\n",
    "    def segment_image(self):\n",
    "        self.compute_similarity_matrix()\n",
    "        self.recursive_two_way(np.arange(self.n))\n",
    "        return self.clusters.reshape((self.rows, self.cols))\n",
    "    \n",
    "    #---------------------------------- average color ---------------------------------------\n",
    "    def average_color(self):\n",
    "        self.segmented_img = self.clusters.reshape((self.rows, self.cols))\n",
    "        num_clusters = len(set(self.clusters))\n",
    "        group_sums = np.zeros(num_clusters)\n",
    "        group_counts = np.zeros(num_clusters)\n",
    "\n",
    "        for i in range(self.segmented_img.shape[0]):\n",
    "            for j in range(self.segmented_img.shape[1]):\n",
    "                group_label = self.segmented_img[i, j]\n",
    "                group_value = self.img[i, j]\n",
    "                \n",
    "                group_sums[group_label] += group_value\n",
    "                group_counts[group_label] += 1\n",
    "\n",
    "        group_averages = (group_sums / group_counts) / 255\n",
    "        rgb_grouped = [(group_averages[i], group_averages[i], group_averages[i]) for i in range(0, len(group_averages))]\n",
    "        cmap = mcolors.ListedColormap(rgb_grouped)\n",
    "    \n",
    "        return cmap\n",
    "    \n",
    "\n",
    "    def visualize(self):\n",
    "        segmented_img = self.clusters.reshape((self.rows, self.cols))\n",
    "        cmap_custom = self.average_color()\n",
    "        fig, axs = plt.subplots(1, 2, figsize=(12, 6))\n",
    "        axs[0].imshow(self.img, cmap='gray')\n",
    "        axs[0].set_title('Original')\n",
    "        axs[0].axis('off')\n",
    "        \n",
    "        axs[1].imshow(segmented_img, cmap=cmap_custom)\n",
    "        axs[1].set_title('Spectralno Grupiranje: Ncut + Lanczos')\n",
    "        axs[1].axis('off')\n",
    "        \n",
    "        plt.tight_layout()\n",
    "        plt.show()\n",
    "        \n",
    "        \n",
    "#2d dio\n",
    "    def load_2d_data(self, data_2d):\n",
    "        self.X = np.array(data_2d)\n",
    "        self.intensities = np.zeros(len(data_2d))  \n",
    "        self.n = self.X.shape[0]\n",
    "        self.rows, self.cols = 1, self.n\n",
    "        self.clusters = np.zeros(self.n, dtype=int) # ???\n",
    "        return self\n",
    "    \n",
    "    def compute_similarity_matrix_2d_gauss(self):\n",
    "        W = np.zeros((self.n, self.n))\n",
    "        for i in range(self.n):\n",
    "            for j in range(i + 1, self.n):\n",
    "                dist_sq = np.linalg.norm(self.X[i] - self.X[j]) ** 2\n",
    "                w_ij = np.exp(-dist_sq / (2 * self.sigma_X ** 2))\n",
    "                W[i, j] = w_ij\n",
    "                W[j, i] = w_ij\n",
    "        self.W = W\n",
    "        return self\n",
    "    \n",
    "    def segment_2d(self,data):\n",
    "        self.load_2d_data(data)\n",
    "        self.compute_similarity_matrix_2d_gauss()\n",
    "        self.recursive_two_way(np.arange(self.n))\n",
    "        return self.clusters.reshape((self.rows, self.cols))"
   ]
  },
  {
   "cell_type": "code",
   "execution_count": 3,
   "id": "81958529",
   "metadata": {},
   "outputs": [
    {
     "data": {
      "image/png": "[encoded data removed]",
      "text/plain": [
       "<Figure size 1000x400 with 2 Axes>"
      ]
     },
     "metadata": {},
     "output_type": "display_data"
    }
   ],
   "source": [
    "fig, axs = plt.subplots(1, 2, figsize=(10, 4))\n",
    "\n",
    "clusterer = SpectralClusteringKVV(sigma_I=0.1, sigma_X=5.0, r=10, lanczos_k=30, l=10)\n",
    "clusterer.load_image(\"images/eagle_30px.png\") \n",
    "\n",
    "axs[0].imshow(clusterer.img, cmap='gray')\n",
    "axs[0].set_title('Original')\n",
    "axs[0].axis('off')\n",
    "\n",
    "clusterer = SpectralClusteringKVV(sigma_I=50, sigma_X=100, r=10, lanczos_k=10, l=10, max_clusters= 4)\n",
    "clusterer.load_image(\"images/eagle_30px.png\")\n",
    "segmented = clusterer.segment_image()\n",
    "\n",
    "cmap_custom = clusterer.average_color()\n",
    "axs[1].imshow(segmented, cmap=cmap_custom)\n",
    "axs[1].set_title('Segmented')\n",
    "axs[1].axis('off')\n",
    "\n",
    "plt.tight_layout()\n",
    "plt.show()"
   ]
  },
  {
   "cell_type": "code",
   "execution_count": 4,
   "id": "cc5bd906",
   "metadata": {},
   "outputs": [],
   "source": [
    "# Ncut je maximalan, tako da možemo upravljati brojem clustera, jer uvjet za grupiranje je ili dosegnut n-cut ili max_cluster\n",
    "def visualize_line(image_name, values, custom):\n",
    "    fig, axs = plt.subplots(1, len(values) + 1, figsize=(20, 4))\n",
    "\n",
    "    clusterer = SpectralClusteringKVV(sigma_I=0.1, sigma_X=5.0, r=10, lanczos_k=30, l=10)\n",
    "    clusterer.load_image(image_name) \n",
    "\n",
    "    axs[0].imshow(clusterer.img, cmap='gray')\n",
    "    axs[0].set_title('Original')\n",
    "    axs[0].axis('off')\n",
    "\n",
    "    for idx, n in enumerate(values):\n",
    "        clusterer = SpectralClusteringKVV(sigma_I=50, sigma_X=100, r=10, lanczos_k=10, l=10, max_clusters= n)\n",
    "        clusterer.load_image(image_name)\n",
    "        segmented = clusterer.segment_image()\n",
    "        if custom == True:\n",
    "            # ------------------------------------------------------  custom set boja ----------------------------\n",
    "            cmap_custom = clusterer.average_color()\n",
    "            axs[idx + 1].imshow(segmented, cmap=cmap_custom)\n",
    "        else:\n",
    "            axs[idx + 1].imshow(segmented, cmap='gray')\n",
    "        axs[idx + 1].set_title(f'Segm (n_cut={n})')\n",
    "        axs[idx + 1].axis('off')\n",
    "\n",
    "    plt.tight_layout()\n",
    "    plt.show()"
   ]
  },
  {
   "cell_type": "markdown",
   "id": "3114a2ed",
   "metadata": {},
   "source": [
    "### Primjer s drugim slikama "
   ]
  },
  {
   "cell_type": "code",
   "execution_count": 5,
   "id": "1cb0c574",
   "metadata": {},
   "outputs": [
    {
     "name": "stdout",
     "output_type": "stream",
     "text": [
      "custom boje\n"
     ]
    },
    {
     "data": {
      "image/png": "[encoded data removed]",
      "text/plain": [
       "<Figure size 2000x400 with 6 Axes>"
      ]
     },
     "metadata": {},
     "output_type": "display_data"
    },
    {
     "data": {
      "text/plain": [
       "\" print('random boje')\\nvisualize_line('images/eagle_30px.png', [0.1,0.7,0.9, 0.95, 9.88, 0.99, 0.999], False)\\n \""
      ]
     },
     "execution_count": 5,
     "metadata": {},
     "output_type": "execute_result"
    }
   ],
   "source": [
    "print('custom boje')\n",
    "visualize_line('images/eagle_30px.png', [2,3,4,5,6], True)\n",
    "\n",
    "\"\"\" print('random boje')\n",
    "visualize_line('images/eagle_30px.png', [0.1,0.7,0.9, 0.95, 9.88, 0.99, 0.999], False)\n",
    " \"\"\"\n",
    "#clusteri ne idu preko 6 \n",
    "\n",
    "#dvije varijante: 17s\n"
   ]
  },
  {
   "cell_type": "code",
   "execution_count": 6,
   "id": "4e858254",
   "metadata": {},
   "outputs": [
    {
     "data": {
      "text/plain": [
       "\" print('custom boje')\\nvisualize_line('images/cat_40px.png', [0.1,0.7,0.9, 0.95, 9.88, 0.99,0.995, 0.999],  True)\\n\\nprint('random boje')\\nvisualize_line('images/cat_40px.png', [0.1,0.7,0.9, 0.95, 9.88, 0.99,0.995, 0.999],  False) \""
      ]
     },
     "execution_count": 6,
     "metadata": {},
     "output_type": "execute_result"
    }
   ],
   "source": [
    "\"\"\" print('custom boje')\n",
    "visualize_line('images/cat_40px.png', [0.1,0.7,0.9, 0.95, 9.88, 0.99,0.995, 0.999],  True)\n",
    "\n",
    "print('random boje')\n",
    "visualize_line('images/cat_40px.png', [0.1,0.7,0.9, 0.95, 9.88, 0.99,0.995, 0.999],  False) \"\"\"\n"
   ]
  },
  {
   "cell_type": "code",
   "execution_count": 7,
   "id": "aedbd7d9",
   "metadata": {},
   "outputs": [
    {
     "data": {
      "text/plain": [
       "\" print('custom boje')\\nvisualize_line('images/eye_40px.png', [0.1,0.7,0.9, 0.95, 9.88, 0.99,0.995, 0.999],  True)\\n\\nprint('random boje')\\nvisualize_line('images/eye_40px.png', [0.1,0.7,0.9, 0.95, 9.88, 0.99,0.995, 0.999],  False) \""
      ]
     },
     "execution_count": 7,
     "metadata": {},
     "output_type": "execute_result"
    }
   ],
   "source": [
    "\"\"\" print('custom boje')\n",
    "visualize_line('images/eye_40px.png', [0.1,0.7,0.9, 0.95, 9.88, 0.99,0.995, 0.999],  True)\n",
    "\n",
    "print('random boje')\n",
    "visualize_line('images/eye_40px.png', [0.1,0.7,0.9, 0.95, 9.88, 0.99,0.995, 0.999],  False) \"\"\""
   ]
  },
  {
   "cell_type": "markdown",
   "id": "2c9a0286",
   "metadata": {},
   "source": [
    "IRIS\n"
   ]
  },
  {
   "cell_type": "code",
   "execution_count": 8,
   "id": "cdfa976e",
   "metadata": {},
   "outputs": [],
   "source": [
    "from sklearn.datasets import load_iris\n",
    "\n",
    "# Load the dataset\n",
    "iris = load_iris()\n",
    "\n",
    "# Features (150 samples × 4 features)\n",
    "X = iris.data\n",
    "\n",
    "# Labels (0, 1, 2 for the three iris species)\n",
    "y = iris.target\n",
    "\n",
    "# Optional: feature names\n",
    "feature_names = iris.feature_names\n",
    "\n",
    "# Optional: target names (species)\n",
    "target_names = iris.target_names\n"
   ]
  },
  {
   "cell_type": "code",
   "execution_count": 9,
   "id": "6aa03264",
   "metadata": {},
   "outputs": [
    {
     "data": {
      "image/png": "[encoded data removed]",
      "text/plain": [
       "<Figure size 800x600 with 1 Axes>"
      ]
     },
     "metadata": {},
     "output_type": "display_data"
    }
   ],
   "source": [
    "import matplotlib.pyplot as plt\n",
    "from sklearn.datasets import load_iris\n",
    "\n",
    "iris = load_iris()\n",
    "X = iris.data\n",
    "y = iris.target\n",
    "\n",
    "plt.figure(figsize=(8, 6))\n",
    "plt.scatter(X[:, 0], X[:, 1], color='blue', edgecolor='k') \n",
    "plt.xlabel('Sepal length')\n",
    "plt.ylabel('Sepal width')\n",
    "plt.title('Iris Dataset (First 2 Features)')\n",
    "plt.show()\n"
   ]
  },
  {
   "cell_type": "code",
   "execution_count": null,
   "id": "0f8286ee",
   "metadata": {},
   "outputs": [],
   "source": [
    "clusterer = SpectralClusteringSM(sigma_I=10, sigma_X=1, r=10, \n",
    "                                 lanczos_k=10, l=3, ncut_max=0.6)\n",
    "labels = clusterer.segment_2d(X)\n",
    "plt.figure(figsize=(8, 6))\n",
    "plt.scatter(X[:, 0], X[:, 1], c=labels) \n",
    "plt.xlabel('Sepal length')\n",
    "plt.ylabel('Sepal width')\n",
    "plt.title('Iris Dataset (First 2 Features)')\n",
    "plt.show()"
   ]
  }
 ],
 "metadata": {
  "kernelspec": {
   "display_name": "Python 3",
   "language": "python",
   "name": "python3"
  },
  "language_info": {
   "codemirror_mode": {
    "name": "ipython",
    "version": 3
   },
   "file_extension": ".py",
   "mimetype": "text/x-python",
   "name": "python",
   "nbconvert_exporter": "python",
   "pygments_lexer": "ipython3",
   "version": "3.10.13"
  }
 },
 "nbformat": 4,
 "nbformat_minor": 5
}
